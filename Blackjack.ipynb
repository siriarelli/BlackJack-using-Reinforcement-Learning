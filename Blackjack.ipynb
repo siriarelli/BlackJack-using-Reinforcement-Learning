{
 "cells": [
  {
   "cell_type": "markdown",
   "metadata": {},
   "source": [
    "Monte Carlo Prediction Simulation"
   ]
  },
  {
   "cell_type": "markdown",
   "metadata": {},
   "source": [
    "Black Jack Game or 21 Card Game"
   ]
  },
  {
   "cell_type": "code",
   "execution_count": 1,
   "metadata": {},
   "outputs": [],
   "source": [
    "import gym\n",
    "env=gym.make('Blackjack-v1')"
   ]
  },
  {
   "cell_type": "code",
   "execution_count": 2,
   "metadata": {},
   "outputs": [
    {
     "name": "stdout",
     "output_type": "stream",
     "text": [
      "((20, 10, False), {})\n"
     ]
    }
   ],
   "source": [
    "print(env.reset())"
   ]
  },
  {
   "cell_type": "code",
   "execution_count": 3,
   "metadata": {},
   "outputs": [
    {
     "name": "stdout",
     "output_type": "stream",
     "text": [
      "Discrete(2)\n"
     ]
    }
   ],
   "source": [
    "print(env.action_space)"
   ]
  },
  {
   "cell_type": "code",
   "execution_count": 4,
   "metadata": {},
   "outputs": [],
   "source": [
    "import pandas as pd\n",
    "from collections import defaultdict"
   ]
  },
  {
   "cell_type": "code",
   "execution_count": 5,
   "metadata": {},
   "outputs": [
    {
     "name": "stdout",
     "output_type": "stream",
     "text": [
      "(19, 6, False)\n"
     ]
    }
   ],
   "source": [
    "state,empty=env.reset()\n",
    "print(state)"
   ]
  },
  {
   "cell_type": "code",
   "execution_count": 6,
   "metadata": {},
   "outputs": [],
   "source": [
    "valu=state[0]\n",
    "\n",
    "def policy(state):\n",
    "    return 0 if valu > 19 else 1"
   ]
  },
  {
   "cell_type": "code",
   "execution_count": 7,
   "metadata": {},
   "outputs": [
    {
     "name": "stdout",
     "output_type": "stream",
     "text": [
      "19\n"
     ]
    }
   ],
   "source": [
    "print(valu)"
   ]
  },
  {
   "cell_type": "code",
   "execution_count": 8,
   "metadata": {},
   "outputs": [
    {
     "name": "stdout",
     "output_type": "stream",
     "text": [
      "1\n"
     ]
    }
   ],
   "source": [
    "print(policy(state))"
   ]
  },
  {
   "cell_type": "markdown",
   "metadata": {},
   "source": [
    "Generating Episode"
   ]
  },
  {
   "cell_type": "code",
   "execution_count": 9,
   "metadata": {},
   "outputs": [],
   "source": [
    "num_timesteps = 100\n",
    "def generate_episode(policy):\n",
    "    episode=[]\n",
    "    state=env.reset()[0]\n",
    "    for t in range(num_timesteps):\n",
    "        action=policy(state)\n",
    "        next_state,reward,done,info,empt = env.step(action)\n",
    "        episode.append((state,action,reward))\n",
    "        if done:\n",
    "            break\n",
    "        state=next_state\n",
    "    return episode"
   ]
  },
  {
   "cell_type": "code",
   "execution_count": 10,
   "metadata": {},
   "outputs": [
    {
     "name": "stdout",
     "output_type": "stream",
     "text": [
      "[((19, 3, True), 1, 0.0), ((19, 3, False), 1, -1.0)]\n"
     ]
    },
    {
     "name": "stderr",
     "output_type": "stream",
     "text": [
      "/Library/Frameworks/Python.framework/Versions/3.10/lib/python3.10/site-packages/gym/utils/passive_env_checker.py:233: DeprecationWarning: `np.bool8` is a deprecated alias for `np.bool_`.  (Deprecated NumPy 1.24)\n",
      "  if not isinstance(terminated, (bool, np.bool8)):\n"
     ]
    }
   ],
   "source": [
    "print(generate_episode(policy))"
   ]
  },
  {
   "cell_type": "markdown",
   "metadata": {},
   "source": [
    "Computing Value Function\n"
   ]
  },
  {
   "cell_type": "code",
   "execution_count": 11,
   "metadata": {},
   "outputs": [
    {
     "data": {
      "text/html": [
       "<div>\n",
       "<style scoped>\n",
       "    .dataframe tbody tr th:only-of-type {\n",
       "        vertical-align: middle;\n",
       "    }\n",
       "\n",
       "    .dataframe tbody tr th {\n",
       "        vertical-align: top;\n",
       "    }\n",
       "\n",
       "    .dataframe thead th {\n",
       "        text-align: right;\n",
       "    }\n",
       "</style>\n",
       "<table border=\"1\" class=\"dataframe\">\n",
       "  <thead>\n",
       "    <tr style=\"text-align: right;\">\n",
       "      <th></th>\n",
       "      <th>state</th>\n",
       "      <th>total_return</th>\n",
       "      <th>N</th>\n",
       "    </tr>\n",
       "  </thead>\n",
       "  <tbody>\n",
       "    <tr>\n",
       "      <th>0</th>\n",
       "      <td>(12, 6, False)</td>\n",
       "      <td>-4743.0</td>\n",
       "      <td>4743</td>\n",
       "    </tr>\n",
       "    <tr>\n",
       "      <th>1</th>\n",
       "      <td>(15, 7, False)</td>\n",
       "      <td>-5339.0</td>\n",
       "      <td>5339</td>\n",
       "    </tr>\n",
       "    <tr>\n",
       "      <th>2</th>\n",
       "      <td>(19, 7, False)</td>\n",
       "      <td>-6089.0</td>\n",
       "      <td>6089</td>\n",
       "    </tr>\n",
       "    <tr>\n",
       "      <th>3</th>\n",
       "      <td>(5, 10, False)</td>\n",
       "      <td>-1757.0</td>\n",
       "      <td>1757</td>\n",
       "    </tr>\n",
       "    <tr>\n",
       "      <th>4</th>\n",
       "      <td>(10, 10, False)</td>\n",
       "      <td>-7523.0</td>\n",
       "      <td>7523</td>\n",
       "    </tr>\n",
       "    <tr>\n",
       "      <th>5</th>\n",
       "      <td>(12, 10, False)</td>\n",
       "      <td>-19325.0</td>\n",
       "      <td>19325</td>\n",
       "    </tr>\n",
       "    <tr>\n",
       "      <th>6</th>\n",
       "      <td>(10, 3, False)</td>\n",
       "      <td>-1860.0</td>\n",
       "      <td>1860</td>\n",
       "    </tr>\n",
       "    <tr>\n",
       "      <th>7</th>\n",
       "      <td>(20, 3, False)</td>\n",
       "      <td>-8174.0</td>\n",
       "      <td>8174</td>\n",
       "    </tr>\n",
       "    <tr>\n",
       "      <th>8</th>\n",
       "      <td>(13, 4, False)</td>\n",
       "      <td>-5015.0</td>\n",
       "      <td>5015</td>\n",
       "    </tr>\n",
       "    <tr>\n",
       "      <th>9</th>\n",
       "      <td>(18, 4, False)</td>\n",
       "      <td>-5763.0</td>\n",
       "      <td>5763</td>\n",
       "    </tr>\n",
       "  </tbody>\n",
       "</table>\n",
       "</div>"
      ],
      "text/plain": [
       "             state  total_return      N\n",
       "0   (12, 6, False)       -4743.0   4743\n",
       "1   (15, 7, False)       -5339.0   5339\n",
       "2   (19, 7, False)       -6089.0   6089\n",
       "3   (5, 10, False)       -1757.0   1757\n",
       "4  (10, 10, False)       -7523.0   7523\n",
       "5  (12, 10, False)      -19325.0  19325\n",
       "6   (10, 3, False)       -1860.0   1860\n",
       "7   (20, 3, False)       -8174.0   8174\n",
       "8   (13, 4, False)       -5015.0   5015\n",
       "9   (18, 4, False)       -5763.0   5763"
      ]
     },
     "execution_count": 11,
     "metadata": {},
     "output_type": "execute_result"
    }
   ],
   "source": [
    "total_return=defaultdict(float)\n",
    "N=defaultdict(int)\n",
    "num_iterations = 500000\n",
    "for i in range (num_iterations):\n",
    "    episode=generate_episode(policy)\n",
    "    states,actions,rewards=zip(*episode)\n",
    "    for t, state in enumerate(states):\n",
    "        R=(sum(rewards[t:]))\n",
    "        total_return[state]= total_return[state]+R\n",
    "        N[state] = N[state]+ 1\n",
    "total_return=pd.DataFrame(total_return.items(),columns=['state','total_return'])\n",
    "N= pd.DataFrame(N.items(),columns=['state','N'])    \n",
    "df= pd.merge(total_return,N,on=\"state\")\n",
    "df.head(10)   \n"
   ]
  },
  {
   "cell_type": "code",
   "execution_count": 12,
   "metadata": {},
   "outputs": [
    {
     "name": "stdout",
     "output_type": "stream",
     "text": [
      "               state  total_return\n",
      "0     (12, 6, False)       -4743.0\n",
      "1     (15, 7, False)       -5339.0\n",
      "2     (19, 7, False)       -6089.0\n",
      "3     (5, 10, False)       -1757.0\n",
      "4    (10, 10, False)       -7523.0\n",
      "..               ...           ...\n",
      "275    (12, 2, True)        -228.0\n",
      "276    (4, 2, False)        -217.0\n",
      "277    (4, 9, False)        -235.0\n",
      "278    (13, 6, True)        -482.0\n",
      "279    (15, 9, True)        -581.0\n",
      "\n",
      "[280 rows x 2 columns]\n",
      "               state     N\n",
      "0     (12, 6, False)  4743\n",
      "1     (15, 7, False)  5339\n",
      "2     (19, 7, False)  6089\n",
      "3     (5, 10, False)  1757\n",
      "4    (10, 10, False)  7523\n",
      "..               ...   ...\n",
      "275    (12, 2, True)   228\n",
      "276    (4, 2, False)   217\n",
      "277    (4, 9, False)   235\n",
      "278    (13, 6, True)   482\n",
      "279    (15, 9, True)   581\n",
      "\n",
      "[280 rows x 2 columns]\n"
     ]
    }
   ],
   "source": [
    "print(total_return)\n",
    "print(N)"
   ]
  },
  {
   "cell_type": "code",
   "execution_count": 13,
   "metadata": {},
   "outputs": [
    {
     "name": "stdout",
     "output_type": "stream",
     "text": [
      "((18, 2, False), (21, 2, False))\n",
      "(1, 1)\n",
      "(0.0, -1.0)\n"
     ]
    }
   ],
   "source": [
    "states,actions,rewards=zip(*episode)\n",
    "print(states)\n",
    "print(actions)\n",
    "print(rewards)\n"
   ]
  },
  {
   "cell_type": "code",
   "execution_count": 14,
   "metadata": {},
   "outputs": [
    {
     "data": {
      "text/html": [
       "<div>\n",
       "<style scoped>\n",
       "    .dataframe tbody tr th:only-of-type {\n",
       "        vertical-align: middle;\n",
       "    }\n",
       "\n",
       "    .dataframe tbody tr th {\n",
       "        vertical-align: top;\n",
       "    }\n",
       "\n",
       "    .dataframe thead th {\n",
       "        text-align: right;\n",
       "    }\n",
       "</style>\n",
       "<table border=\"1\" class=\"dataframe\">\n",
       "  <thead>\n",
       "    <tr style=\"text-align: right;\">\n",
       "      <th></th>\n",
       "      <th>state</th>\n",
       "      <th>total_return</th>\n",
       "      <th>N</th>\n",
       "      <th>value</th>\n",
       "    </tr>\n",
       "  </thead>\n",
       "  <tbody>\n",
       "    <tr>\n",
       "      <th>0</th>\n",
       "      <td>(12, 6, False)</td>\n",
       "      <td>-4743.0</td>\n",
       "      <td>4743</td>\n",
       "      <td>-1.0</td>\n",
       "    </tr>\n",
       "    <tr>\n",
       "      <th>1</th>\n",
       "      <td>(15, 7, False)</td>\n",
       "      <td>-5339.0</td>\n",
       "      <td>5339</td>\n",
       "      <td>-1.0</td>\n",
       "    </tr>\n",
       "    <tr>\n",
       "      <th>2</th>\n",
       "      <td>(19, 7, False)</td>\n",
       "      <td>-6089.0</td>\n",
       "      <td>6089</td>\n",
       "      <td>-1.0</td>\n",
       "    </tr>\n",
       "    <tr>\n",
       "      <th>3</th>\n",
       "      <td>(5, 10, False)</td>\n",
       "      <td>-1757.0</td>\n",
       "      <td>1757</td>\n",
       "      <td>-1.0</td>\n",
       "    </tr>\n",
       "    <tr>\n",
       "      <th>4</th>\n",
       "      <td>(10, 10, False)</td>\n",
       "      <td>-7523.0</td>\n",
       "      <td>7523</td>\n",
       "      <td>-1.0</td>\n",
       "    </tr>\n",
       "    <tr>\n",
       "      <th>5</th>\n",
       "      <td>(12, 10, False)</td>\n",
       "      <td>-19325.0</td>\n",
       "      <td>19325</td>\n",
       "      <td>-1.0</td>\n",
       "    </tr>\n",
       "    <tr>\n",
       "      <th>6</th>\n",
       "      <td>(10, 3, False)</td>\n",
       "      <td>-1860.0</td>\n",
       "      <td>1860</td>\n",
       "      <td>-1.0</td>\n",
       "    </tr>\n",
       "    <tr>\n",
       "      <th>7</th>\n",
       "      <td>(20, 3, False)</td>\n",
       "      <td>-8174.0</td>\n",
       "      <td>8174</td>\n",
       "      <td>-1.0</td>\n",
       "    </tr>\n",
       "    <tr>\n",
       "      <th>8</th>\n",
       "      <td>(13, 4, False)</td>\n",
       "      <td>-5015.0</td>\n",
       "      <td>5015</td>\n",
       "      <td>-1.0</td>\n",
       "    </tr>\n",
       "    <tr>\n",
       "      <th>9</th>\n",
       "      <td>(18, 4, False)</td>\n",
       "      <td>-5763.0</td>\n",
       "      <td>5763</td>\n",
       "      <td>-1.0</td>\n",
       "    </tr>\n",
       "  </tbody>\n",
       "</table>\n",
       "</div>"
      ],
      "text/plain": [
       "             state  total_return      N  value\n",
       "0   (12, 6, False)       -4743.0   4743   -1.0\n",
       "1   (15, 7, False)       -5339.0   5339   -1.0\n",
       "2   (19, 7, False)       -6089.0   6089   -1.0\n",
       "3   (5, 10, False)       -1757.0   1757   -1.0\n",
       "4  (10, 10, False)       -7523.0   7523   -1.0\n",
       "5  (12, 10, False)      -19325.0  19325   -1.0\n",
       "6   (10, 3, False)       -1860.0   1860   -1.0\n",
       "7   (20, 3, False)       -8174.0   8174   -1.0\n",
       "8   (13, 4, False)       -5015.0   5015   -1.0\n",
       "9   (18, 4, False)       -5763.0   5763   -1.0"
      ]
     },
     "execution_count": 14,
     "metadata": {},
     "output_type": "execute_result"
    }
   ],
   "source": [
    "df['value']= df['total_return']/df['N']\n",
    "df.head(10)"
   ]
  },
  {
   "cell_type": "code",
   "execution_count": 15,
   "metadata": {},
   "outputs": [
    {
     "data": {
      "text/plain": [
       "array([-1.])"
      ]
     },
     "execution_count": 15,
     "metadata": {},
     "output_type": "execute_result"
    }
   ],
   "source": [
    "df[df['state']==(21,9,False)]['value'].values"
   ]
  },
  {
   "cell_type": "code",
   "execution_count": 16,
   "metadata": {},
   "outputs": [
    {
     "data": {
      "text/plain": [
       "array([-1.])"
      ]
     },
     "execution_count": 16,
     "metadata": {},
     "output_type": "execute_result"
    }
   ],
   "source": [
    "df[df['state']==(5,8,False)]['value'].values"
   ]
  },
  {
   "cell_type": "code",
   "execution_count": null,
   "metadata": {},
   "outputs": [],
   "source": []
  }
 ],
 "metadata": {
  "kernelspec": {
   "display_name": "Python 3.10.7 64-bit",
   "language": "python",
   "name": "python3"
  },
  "language_info": {
   "codemirror_mode": {
    "name": "ipython",
    "version": 3
   },
   "file_extension": ".py",
   "mimetype": "text/x-python",
   "name": "python",
   "nbconvert_exporter": "python",
   "pygments_lexer": "ipython3",
   "version": "3.10.7"
  },
  "orig_nbformat": 4,
  "vscode": {
   "interpreter": {
    "hash": "aee8b7b246df8f9039afb4144a1f6fd8d2ca17a180786b69acc140d282b71a49"
   }
  }
 },
 "nbformat": 4,
 "nbformat_minor": 2
}
